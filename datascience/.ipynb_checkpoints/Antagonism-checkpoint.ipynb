{
 "cells": [
  {
   "cell_type": "markdown",
   "metadata": {},
   "source": [
    "# Antagonism\n",
    "\n",
    "- This notebook contains code for the hate speech classification model.\n",
    "- This is a sentiment analaysis problem.\n",
    "- We will be using the Twitter dataset.\n",
    "- The term hate speech is understood as any type of verbal, written or behavioural communication that attacks or uses derogatory or discriminatory language against a person or group based on what they are, in other words, based on their religion, ethnicity, nationality, race, colour, ancestry, sex or another identity factor.\n",
    "\n",
    "### About the dataset\n",
    "- The data set we will use for the hate speech detection model consists of a test and train set. The training package includes a list of 31,962 tweets, a corresponding ID and a tag 0 or 1 for each tweet. The particular sentiment we need to detect in this dataset is whether or not the tweet is based on hate speech\n",
    "\n",
    "- 0: NotHate\n",
    "- 1: Hate"
   ]
  },
  {
   "cell_type": "markdown",
   "metadata": {},
   "source": [
    "### Importing libraries"
   ]
  },
  {
   "cell_type": "code",
   "execution_count": null,
   "metadata": {},
   "outputs": [],
   "source": [
    "import pandas as pd\n",
    "import re\n",
    "import pickle\n",
    "import matplotlib.pyplot as plt\n",
    "import seaborn as sns\n",
    "\n",
    "from sklearn.utils import resample\n",
    "from sklearn.feature_extraction.text import TfidfVectorizer\n",
    "from sklearn.pipeline import Pipeline\n",
    "from sklearn.feature_extraction.text import CountVectorizer\n",
    "from sklearn.feature_extraction.text import TfidfTransformer\n",
    "from sklearn.linear_model import SGDClassifier\n",
    "from sklearn.naive_bayes import BernoulliNB, GaussianNB\n",
    "from sklearn.svm import SVC\n",
    "\n",
    "from sklearn.model_selection import train_test_split\n",
    "from sklearn.metrics import f1_score, accuracy_score, precision_score\n"
   ]
  },
  {
   "cell_type": "markdown",
   "metadata": {},
   "source": [
    "### Reading the Train and Test dataset "
   ]
  },
  {
   "cell_type": "code",
   "execution_count": null,
   "metadata": {},
   "outputs": [],
   "source": [
    "train_data = pd.read_csv('dataset/train.csv')\n",
    "test_data = pd.read_csv('dataset/test.csv')\n"
   ]
  },
  {
   "cell_type": "code",
   "execution_count": null,
   "metadata": {},
   "outputs": [],
   "source": [
    "# Reading first 15 rows of the training data\n",
    "train_data.head(15)\n"
   ]
  },
  {
   "cell_type": "code",
   "execution_count": null,
   "metadata": {},
   "outputs": [],
   "source": [
    "# Size of dataset\n",
    "print(\"Training Set:\"% train_data.columns, train_data.shape) # 31962 rows for Training dataset\n",
    "print(\"Testing Set:\"% test_data.columns, test_data.shape)    # 171197 rows for Testing dataset\n"
   ]
  },
  {
   "cell_type": "markdown",
   "metadata": {},
   "source": [
    "### Dataset Visualization"
   ]
  },
  {
   "cell_type": "code",
   "execution_count": null,
   "metadata": {},
   "outputs": [],
   "source": [
    "not_hate_count = len(train_data[train_data.label == 0])\n",
    "hate_count = len(train_data[train_data.label == 1])\n",
    "\n",
    "x = [\"Not Hate\", \"Hate\"]\n",
    "y = [not_hate_count, hate_count]\n",
    "\n",
    "sns.barplot(x, y)\n",
    "plt.show()"
   ]
  },
  {
   "cell_type": "markdown",
   "metadata": {},
   "source": [
    "### Cleaning the dataset "
   ]
  },
  {
   "cell_type": "code",
   "execution_count": null,
   "metadata": {},
   "outputs": [],
   "source": [
    "def  clean_text(df, text_field): #\n",
    "    # This function removes all unnecessary characters from the text\n",
    "    df[text_field] = df[text_field].str.lower()\n",
    "    df[text_field] = df[text_field].apply(lambda elem: re.sub(r\"(@[A-Za-z0-9]+)|([^0-9A-Za-z \\t])|(\\w+:\\/\\/\\S+)|^rt|http.+?\", \"\", elem))  \n",
    "    return df\n",
    "\n",
    "train_clean = clean_text(train_data, \"tweet\")\n",
    "test_clean = clean_text(test_data, \"tweet\")\n"
   ]
  },
  {
   "cell_type": "code",
   "execution_count": null,
   "metadata": {},
   "outputs": [],
   "source": [
    "# You can now see that the tweets are cleaned and readable\n",
    "train_clean.head(15)\n"
   ]
  },
  {
   "cell_type": "code",
   "execution_count": null,
   "metadata": {},
   "outputs": [],
   "source": [
    "# Getting count of Negative and Positive label from train dataset\n",
    "print(\"The count for NOT HATE label from train dataset: \", len(train_clean[train_clean.label == 0]))\n",
    "print(\"The count for HATE label from train dataset: \", len(train_clean[train_clean.label == 1]))\n",
    "\n",
    "# The output is clearly imbalanced"
   ]
  },
  {
   "cell_type": "markdown",
   "metadata": {},
   "source": [
    "### Handling the imbalance in the data"
   ]
  },
  {
   "cell_type": "code",
   "execution_count": null,
   "metadata": {},
   "outputs": [],
   "source": [
    "train_not_hate = train_clean[train_clean.label == 0]\n",
    "train_hate = train_clean[train_clean.label == 1]\n",
    "\n",
    "train_hate_upsampled = resample(train_hate, \n",
    "                                replace=True,    \n",
    "                                n_samples=len(train_not_hate),   \n",
    "                                random_state=123)\n",
    "\n",
    "train_upsampled = pd.concat([train_hate_upsampled, train_not_hate])\n",
    "train_upsampled['label'].value_counts()\n"
   ]
  },
  {
   "cell_type": "code",
   "execution_count": null,
   "metadata": {},
   "outputs": [],
   "source": [
    "x = [\"Not Hate\", \"Hate\"]\n",
    "y = [len(train_upsampled[train_upsampled.label == 0 ]), len(train_upsampled[train_upsampled.label == 1 ])]\n",
    "\n",
    "sns.barplot(x, y)\n",
    "plt.show()"
   ]
  },
  {
   "cell_type": "markdown",
   "metadata": {},
   "source": [
    "### Creating pipeline using sklearn"
   ]
  },
  {
   "cell_type": "code",
   "execution_count": null,
   "metadata": {},
   "outputs": [],
   "source": [
    "pipeline_sgd = Pipeline([('vect', CountVectorizer()), \n",
    "                         ('tfidf',  TfidfTransformer()), \n",
    "                         ('nb', SGDClassifier()),])\n",
    "\n",
    "pipeline_bnb = Pipeline([('vect', CountVectorizer()), \n",
    "                         ('tfidf',  TfidfTransformer()), \n",
    "                         ('nb', BernoulliNB()),])\n",
    "\n",
    "pipeline_svc = Pipeline([('vect', CountVectorizer()), \n",
    "                         ('tfidf',  TfidfTransformer()), \n",
    "                         ('nb', SVC()),])\n"
   ]
  },
  {
   "cell_type": "markdown",
   "metadata": {},
   "source": [
    "### Training the model "
   ]
  },
  {
   "cell_type": "code",
   "execution_count": null,
   "metadata": {},
   "outputs": [],
   "source": [
    "X_train, X_test, y_train, y_test = train_test_split(train_upsampled['tweet'],\n",
    "                                                    train_upsampled['label'],\n",
    "                                                    random_state = 0)\n",
    "models = []\n",
    "\n",
    "model_sgd = pipeline_sgd.fit(X_train, y_train)\n",
    "model_bnb = pipeline_bnb.fit(X_train, y_train)\n",
    "model_svc = pipeline_svc.fit(X_train, y_train)\n",
    "\n",
    "models.append({\"name\": \"model_sgd\", \"model\": model_sgd})\n",
    "models.append({\"name\": \"model_bnb\", \"model\": model_bnb})\n",
    "models.append({\"name\": \"model_svc\", \"model\": model_svc})\n"
   ]
  },
  {
   "cell_type": "markdown",
   "metadata": {},
   "source": [
    "### Evaluating the model"
   ]
  },
  {
   "cell_type": "code",
   "execution_count": null,
   "metadata": {},
   "outputs": [],
   "source": [
    "for index in range (len(models)):\n",
    "    print(\"Model name:\", models[index]['name'])\n",
    "    y_predict = models[index]['model'].predict(X_test)\n",
    "    f1_score_result = f1_score(y_test, y_predict)\n",
    "    accuracy_score_result = accuracy_score(y_test, y_predict)\n",
    "    precision_score_result = precision_score(y_test, y_predict)\n",
    "\n",
    "    print(\"F1 score %s\" % round(f1_score_result*100, 2), \"%\")\n",
    "    print(\"Accuracy score %s\" % round(accuracy_score_result*100, 2), \"%\")\n",
    "    print(\"Precision score %s\" % round(precision_score_result*100, 2), \"%\")\n",
    "    print(\"-----------------------\")"
   ]
  },
  {
   "cell_type": "markdown",
   "metadata": {},
   "source": [
    "### Saving model"
   ]
  },
  {
   "cell_type": "code",
   "execution_count": null,
   "metadata": {},
   "outputs": [],
   "source": [
    "pickle.dump(model, open(\"antagonism_model\", 'wb'))"
   ]
  },
  {
   "cell_type": "markdown",
   "metadata": {},
   "source": [
    "### Loading model"
   ]
  },
  {
   "cell_type": "code",
   "execution_count": null,
   "metadata": {},
   "outputs": [],
   "source": [
    "loaded_model = pickle.load(open(\"antagonism_model\", 'rb'))"
   ]
  },
  {
   "cell_type": "code",
   "execution_count": null,
   "metadata": {},
   "outputs": [],
   "source": [
    "print(loaded_model)"
   ]
  },
  {
   "cell_type": "markdown",
   "metadata": {},
   "source": [
    "### Testing the model"
   ]
  },
  {
   "cell_type": "code",
   "execution_count": null,
   "metadata": {},
   "outputs": [],
   "source": [
    "def clean_text(text):\n",
    "    text = text.lower()\n",
    "    text = re.sub(r\"(@[A-Za-z0-9]+)|([^0-9A-Za-z \\t])|(\\w+:\\/\\/\\S+)|^rt|http.+?\", \"\", text)\n",
    "    return text\n",
    "    "
   ]
  },
  {
   "cell_type": "code",
   "execution_count": null,
   "metadata": {},
   "outputs": [],
   "source": [
    "test_data = pd.read_csv('dataset/test.csv')\n",
    "\n",
    "for i in range (test_data.size-1):\n",
    "    sampleTestTweet = test_data.iloc[i].tweet\n",
    "    sampleTestTweet = clean_text(sampleTestTweet)\n",
    "\n",
    "    output = [\"Not hate\", \"hate\"]\n",
    "    result = loaded_model.predict(pd.Series(sampleTestTweet))[0]\n",
    "    if(result == 1):\n",
    "        print(sampleTestTweet, \"<==>\", output[result])\n",
    "        print()"
   ]
  },
  {
   "cell_type": "code",
   "execution_count": null,
   "metadata": {},
   "outputs": [],
   "source": []
  }
 ],
 "metadata": {
  "kernelspec": {
   "display_name": "Python 3",
   "language": "python",
   "name": "python3"
  },
  "language_info": {
   "codemirror_mode": {
    "name": "ipython",
    "version": 3
   },
   "file_extension": ".py",
   "mimetype": "text/x-python",
   "name": "python",
   "nbconvert_exporter": "python",
   "pygments_lexer": "ipython3",
   "version": "3.8.3"
  }
 },
 "nbformat": 4,
 "nbformat_minor": 5
}
